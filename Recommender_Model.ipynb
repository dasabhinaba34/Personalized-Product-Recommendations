{
  "cells": [
    {
      "cell_type": "code",
      "execution_count": 1,
      "metadata": {
        "colab": {
          "base_uri": "https://localhost:8080/"
        },
        "id": "4n6ut7SVM637",
        "outputId": "44920433-6109-44dd-c784-478b568c0944"
      },
      "outputs": [
        {
          "name": "stdout",
          "output_type": "stream",
          "text": [
            "Recommended products for user1 : ['Laptop', 'Headphones']\n",
            "Recommended products for user2 : ['Shirt', 'Sneakers']\n",
            "Recommended products for user3 : ['Phone', 'Laptop']\n",
            "Recommended products for user4 : ['Water Bottle', 'Laptop']\n"
          ]
        }
      ],
      "source": [
        "import pandas as pd\n",
        "import numpy as np\n",
        "from sklearn.metrics.pairwise import cosine_similarity\n",
        "\n",
        "data = [\n",
        "    {\n",
        "        'user_id': 1,\n",
        "        'username': 'user1',\n",
        "        'salary': 80000,\n",
        "        'interactions': [\n",
        "            {'product_id': 101, 'product_name': 'Laptop', 'search_history': 'electronics', 'browse_history': 'laptops', 'product_rating': 4, 'num_searches': 10, 'price': 1000},\n",
        "            {'product_id': 102, 'product_name': 'Shirt', 'search_history': 'clothing', 'browse_history': 'shoes', 'product_rating': 5, 'num_searches': 5, 'price': 30},\n",
        "            {'product_id': 103, 'product_name': 'Phone', 'search_history': 'electronics', 'browse_history': 'smartphones', 'product_rating': 3, 'num_searches': 8, 'price': 500},\n",
        "            {'product_id': 104, 'product_name': 'Watch', 'search_history': 'clothing', 'browse_history': 'watches', 'product_rating': 4, 'num_searches': 3, 'price': 150},\n",
        "            {'product_id': 105, 'product_name': 'Headphones', 'search_history': 'electronics', 'browse_history': 'audio', 'product_rating': 4, 'num_searches': 12, 'price': 80},\n",
        "        ],\n",
        "        'occupation': 'engineer'\n",
        "    },\n",
        "    {\n",
        "        'user_id': 2,\n",
        "        'username': 'user2',\n",
        "        'salary': 55000,\n",
        "        'interactions': [\n",
        "            {'product_id': 102, 'product_name': 'Shirt', 'search_history': 'clothing', 'browse_history': 'shoes', 'product_rating': 5, 'num_searches': 7, 'price': 25},\n",
        "            {'product_id': 103, 'product_name': 'Phone', 'search_history': 'electronics', 'browse_history': 'smartphones', 'product_rating': 4, 'num_searches': 6, 'price': 450},\n",
        "            {'product_id': 105, 'product_name': 'Hat', 'search_history': 'clothing', 'browse_history': 'hats', 'product_rating': 3, 'num_searches': 4, 'price': 15},\n",
        "            {'product_id': 106, 'product_name': 'Sneakers', 'search_history': 'clothing', 'browse_history': 'shoes', 'product_rating': 4, 'num_searches': 9, 'price': 60},\n",
        "            {'product_id': 107, 'product_name': 'Backpack', 'search_history': 'travel', 'browse_history': 'backpacks', 'product_rating': 5, 'num_searches': 2, 'price': 40},\n",
        "        ],\n",
        "        'occupation': 'teacher'\n",
        "    },\n",
        "    {\n",
        "        'user_id': 3,\n",
        "        'username': 'user3',\n",
        "        'salary': 35000,\n",
        "        'interactions': [\n",
        "            {'product_id': 101, 'product_name': 'Laptop', 'search_history': 'electronics', 'browse_history': 'laptops', 'product_rating': 4, 'num_searches': 10, 'price': 900},\n",
        "            {'product_id': 103, 'product_name': 'Phone', 'search_history': 'electronics', 'browse_history': 'smartphones', 'product_rating': 3, 'num_searches': 8, 'price': 550},\n",
        "            {'product_id': 104, 'product_name': 'Watch', 'search_history': 'clothing', 'browse_history': 'watches', 'product_rating': 5, 'num_searches': 3, 'price': 120},\n",
        "            {'product_id': 106, 'product_name': 'Sunglasses', 'search_history': 'accessories', 'browse_history': 'sunglasses', 'product_rating': 4, 'num_searches': 5, 'price': 30},\n",
        "            {'product_id': 108, 'product_name': 'Wallet', 'search_history': 'accessories', 'browse_history': 'wallets', 'product_rating': 3, 'num_searches': 2, 'price': 20},\n",
        "        ],\n",
        "        'occupation': 'student'\n",
        "    },\n",
        "    {\n",
        "        'user_id': 4,\n",
        "        'username': 'user4',\n",
        "        'salary': 95000,\n",
        "        'interactions': [\n",
        "            {'product_id': 101, 'product_name': 'Laptop', 'search_history': 'electronics', 'browse_history': 'laptops', 'product_rating': 4, 'num_searches': 10, 'price': 1100},\n",
        "            {'product_id': 104, 'product_name': 'Watch', 'search_history': 'electronics', 'browse_history': 'smartphones', 'product_rating': 4, 'num_searches': 3, 'price': 200},\n",
        "            {'product_id': 107, 'product_name': 'Backpack', 'search_history': 'travel', 'browse_history': 'backpacks', 'product_rating': 5, 'num_searches': 6, 'price': 70},\n",
        "            {'product_id': 109, 'product_name': 'Water Bottle', 'search_history': 'fitness', 'browse_history': 'hydration', 'product_rating': 4, 'num_searches': 7, 'price': 200},\n",
        "            {'product_id': 110, 'product_name': 'Umbrella', 'search_history': 'accessories', 'browse_history': 'umbrellas', 'product_rating': 3, 'num_searches': 2, 'price': 500},\n",
        "        ],\n",
        "        'occupation': 'doctor'\n",
        "    },\n",
        "    # ... (add more users)\n",
        "]\n",
        "\n",
        "\n",
        "# Convert the array format data into a flat DataFrame\n",
        "interactions = []\n",
        "for user_data in data:\n",
        "    for interaction in user_data['interactions']:\n",
        "        interaction['user_id'] = user_data['user_id']\n",
        "        interaction['occupation'] = user_data['occupation']\n",
        "        interaction['salary'] = user_data['salary']\n",
        "        interactions.append(interaction)\n",
        "\n",
        "df = pd.DataFrame(interactions)\n",
        "\n",
        "# Ensure product_id values are unique\n",
        "df = df.drop_duplicates(subset=['user_id', 'product_id'])\n",
        "\n",
        "# Convert categorical variables to numerical values\n",
        "df['search_history'] = df['search_history'].astype('category').cat.codes\n",
        "df['browse_history'] = df['browse_history'].astype('category').cat.codes\n",
        "df['occupation'] = df['occupation'].astype('category').cat.codes\n",
        "\n",
        "# Rest of the code remains the same...\n",
        "\n",
        "# Creating a user-item matrix\n",
        "user_item_matrix = df.pivot(index='user_id', columns='product_id', values='product_rating').fillna(0)\n",
        "\n",
        "# Calculate cosine similarity between products\n",
        "product_similarity = cosine_similarity(user_item_matrix.T)\n",
        "\n",
        "# Define a function to get product recommendations\n",
        "def get_recommendations(user_id, num_recommendations=2):\n",
        "    user_ratings = user_item_matrix.loc[user_id]\n",
        "    similar_scores = product_similarity.dot(user_ratings)\n",
        "\n",
        "    user_searches = df[df['user_id'] == user_id].set_index('product_id')['num_searches']\n",
        "    user_salary = df[df['user_id'] == user_id]['salary'].values[0]\n",
        "\n",
        "    # Calculate weighted scores based on number of searches and salary\n",
        "    weighted_scores = []\n",
        "    for idx in range(len(user_item_matrix.columns)):\n",
        "        product_id = user_item_matrix.columns[idx]\n",
        "        product_score = similar_scores[idx] * user_searches.get(product_id, 0) + user_salary\n",
        "        weighted_scores.append(product_score)\n",
        "\n",
        "    recommended_product_indices = np.argsort(weighted_scores)[-num_recommendations:]\n",
        "    recommended_products = [df.loc[df['product_id'] == user_item_matrix.columns[idx], 'product_name'].values[0] for idx in recommended_product_indices]\n",
        "    return recommended_products\n",
        "\n",
        "# Test the recommender system for all users\n",
        "for user_id in range(1, len(user_item_matrix) + 1):\n",
        "    recommendations = get_recommendations(user_id, num_recommendations=2)\n",
        "    username = data[user_id - 1]['username']  # Get the username from the data\n",
        "    print(f\"Recommended products for {username} : {recommendations}\")"
      ]
    },
    {
      "cell_type": "code",
      "execution_count": 2,
      "metadata": {
        "colab": {
          "base_uri": "https://localhost:8080/"
        },
        "id": "AQ-7lXWTNNFY",
        "outputId": "f54760df-8441-42e1-8d85-35ee13cc8af6"
      },
      "outputs": [
        {
          "name": "stdout",
          "output_type": "stream",
          "text": [
            "Model Accuracy: 100.00%\n"
          ]
        }
      ],
      "source": [
        "# Initialize variables for evaluation\n",
        "total_users = len(user_item_matrix)\n",
        "correct_recommendations = 0\n",
        "\n",
        "# Evaluate the model for all users\n",
        "for user_id in range(1, total_users + 1):\n",
        "    recommendations = get_recommendations(user_id, num_recommendations=2)\n",
        "\n",
        "    # Get the actual products that the user has interacted with\n",
        "    actual_interactions = df[(df['user_id'] == user_id) & (df['product_rating'] > 0)]['product_name'].tolist()\n",
        "\n",
        "    # Calculate the number of correct recommendations\n",
        "    for product in recommendations:\n",
        "        if product in actual_interactions:\n",
        "            correct_recommendations += 1\n",
        "\n",
        "# Calculate accuracy\n",
        "accuracy = correct_recommendations / (total_users * 2)  # Total users * number of recommendations per user\n",
        "print(f\"Model Accuracy: {accuracy * 100:.2f}%\")"
      ]
    }
  ],
  "metadata": {
    "colab": {
      "provenance": []
    },
    "kernelspec": {
      "display_name": "Python 3",
      "name": "python3"
    },
    "language_info": {
      "codemirror_mode": {
        "name": "ipython",
        "version": 3
      },
      "file_extension": ".py",
      "mimetype": "text/x-python",
      "name": "python",
      "nbconvert_exporter": "python",
      "pygments_lexer": "ipython3",
      "version": "3.9.12"
    }
  },
  "nbformat": 4,
  "nbformat_minor": 0
}
